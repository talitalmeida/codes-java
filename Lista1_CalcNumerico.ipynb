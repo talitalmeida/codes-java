{
  "nbformat": 4,
  "nbformat_minor": 0,
  "metadata": {
    "colab": {
      "provenance": [],
      "authorship_tag": "ABX9TyNEI0BaUVOTMEUB5suXDfqo",
      "include_colab_link": true
    },
    "kernelspec": {
      "name": "python3",
      "display_name": "Python 3"
    },
    "language_info": {
      "name": "python"
    }
  },
  "cells": [
    {
      "cell_type": "markdown",
      "metadata": {
        "id": "view-in-github",
        "colab_type": "text"
      },
      "source": [
        "<a href=\"https://colab.research.google.com/github/talitalmeida/codes-java/blob/main/Lista1_CalcNumerico.ipynb\" target=\"_parent\"><img src=\"https://colab.research.google.com/assets/colab-badge.svg\" alt=\"Open In Colab\"/></a>"
      ]
    },
    {
      "cell_type": "markdown",
      "source": [
        "### Lista 1\n",
        "Acadêmica: Talita Almeida"
      ],
      "metadata": {
        "id": "daMSJSdZ2cN7"
      }
    },
    {
      "cell_type": "markdown",
      "source": [
        "\n",
        "\n",
        "1.   Descrever em palavras uma aplicação ou uso do cálculo numérico.\n",
        "\n",
        "Por meio do cálculo numérico é possível obter soluções numérica (aproximadas) de diversos problemas encontrados no mundo real, tais problemas podem ser solucionados por funções, matrizes, equações diferenciais etc. Por exemplo, em Ciência da Computação, o cálculo numérico é utilizado para o desenvolvimento de algoritmos na resolução de problemas complexos nas áreas de Inteligência Artificial, Machine Learning por meio da análise de dados, previsões de comportamentos."
      ],
      "metadata": {
        "id": "MPtdQtjLKOMr"
      }
    },
    {
      "cell_type": "markdown",
      "source": [
        "2.   Escreva um algoritmo que converta números inteiros decimais em binários.\n",
        "\n"
      ],
      "metadata": {
        "id": "5giG34VWKcpN"
      }
    },
    {
      "cell_type": "code",
      "source": [
        "%%writefile DecToBin.java\n",
        "import java.util.*;\n",
        "public class DecToBin{\n",
        "\tpublic static void main(String[] args) {\n",
        "\t\tScanner read = new Scanner(System.in);\n",
        "\t\t\tint numDecimal = read.nextInt();\n",
        "\t\t\tint numBinary = convertDecToBin(numDecimal);\n",
        "\t\t\t\n",
        "\t\t\tSystem.out.println(numBinary);\n",
        "\t}\n",
        "\t\n",
        "\tprivate static int convertDecToBin(int num_decimal) {\n",
        "\t\tString resto = \"\";\n",
        "\t\tfor(int i = num_decimal; i > 0 ; i = i/2) {\n",
        "\t\t\tresto += String.valueOf(num_decimal%2);\n",
        "\t\t\tnum_decimal /= 2;\n",
        "\t\t}\n",
        "\t\t\n",
        "\t\tString num_binary = new StringBuilder(resto).reverse().toString();\n",
        "\t\t\n",
        "\t\treturn Integer.valueOf(num_binary);\n",
        "\t}\n",
        "}"
      ],
      "metadata": {
        "colab": {
          "base_uri": "https://localhost:8080/"
        },
        "id": "CCxjBzxYKoQD",
        "outputId": "2c2bf8a9-fa04-4fdb-9518-43f1af473cd5"
      },
      "execution_count": 15,
      "outputs": [
        {
          "output_type": "stream",
          "name": "stdout",
          "text": [
            "Writing DecToBin.java\n"
          ]
        }
      ]
    },
    {
      "cell_type": "code",
      "source": [
        "%%shell \n",
        "javac DecToBin.java"
      ],
      "metadata": {
        "colab": {
          "base_uri": "https://localhost:8080/"
        },
        "id": "DRsjayfILO0I",
        "outputId": "9dfdd096-8ae5-41e8-e90d-4671a81eda4a"
      },
      "execution_count": 16,
      "outputs": [
        {
          "output_type": "execute_result",
          "data": {
            "text/plain": []
          },
          "metadata": {},
          "execution_count": 16
        }
      ]
    },
    {
      "cell_type": "code",
      "source": [
        "%%shell\n",
        "java DecToBin"
      ],
      "metadata": {
        "colab": {
          "base_uri": "https://localhost:8080/"
        },
        "id": "o6Tws32HMEJS",
        "outputId": "1f67b16c-5c64-4b7e-adc3-06212b6721cb"
      },
      "execution_count": 17,
      "outputs": [
        {
          "output_type": "stream",
          "name": "stdout",
          "text": [
            "23\n",
            "10111\n"
          ]
        },
        {
          "output_type": "execute_result",
          "data": {
            "text/plain": []
          },
          "metadata": {},
          "execution_count": 17
        }
      ]
    },
    {
      "cell_type": "markdown",
      "source": [
        "3. Escreva um algoritmo que converta números inteiros binários em decimais.\n",
        "\n"
      ],
      "metadata": {
        "id": "sTUmZRkyLnov"
      }
    },
    {
      "cell_type": "code",
      "source": [
        "%%writefile BinToDec.java\n",
        "import java.util.*;\n",
        "public class BinToDec{\n",
        "\tpublic static void main(String[] args) {\n",
        "\t\tScanner read = new Scanner(System.in);\n",
        "\t\t\tString numBinary = read.next();\n",
        "\t\t\tint numDecimal = convertBinToDec(numBinary);\n",
        "\t\t\t\n",
        "\t\t\tSystem.out.println(numDecimal);\n",
        "\t}\n",
        "\n",
        "\tprivate static int convertBinToDec(String bin) {\n",
        "\t\tint decimal = 0;\n",
        "\t\t\n",
        "\t\tfor(int i = 0; i < bin.length(); i++) {\n",
        "\t\t\tint digito = Integer.valueOf(bin.substring(bin.length()-i-1, bin.length()-i));\n",
        "\n",
        "\t\t\tif(digito!=0) {\n",
        "\t\t\t\tdecimal += (int)Math.pow(2, i);\n",
        "\t\t\t} \n",
        "\t\t}\n",
        "\n",
        "\t\treturn decimal;\n",
        "\t}\n",
        "} "
      ],
      "metadata": {
        "colab": {
          "base_uri": "https://localhost:8080/"
        },
        "id": "9xPCP3lfMe84",
        "outputId": "2940396e-ce16-4f83-e740-74d64456535f"
      },
      "execution_count": 18,
      "outputs": [
        {
          "output_type": "stream",
          "name": "stdout",
          "text": [
            "Writing BinToDec.java\n"
          ]
        }
      ]
    },
    {
      "cell_type": "code",
      "source": [
        "%%shell \n",
        "javac BinToDec.java"
      ],
      "metadata": {
        "colab": {
          "base_uri": "https://localhost:8080/"
        },
        "id": "FfD4I96LOjj2",
        "outputId": "6480f317-10bc-45f2-96b5-4502faa54621"
      },
      "execution_count": 19,
      "outputs": [
        {
          "output_type": "execute_result",
          "data": {
            "text/plain": []
          },
          "metadata": {},
          "execution_count": 19
        }
      ]
    },
    {
      "cell_type": "code",
      "source": [
        "%%shell\n",
        "java BinToDec"
      ],
      "metadata": {
        "colab": {
          "base_uri": "https://localhost:8080/"
        },
        "id": "92RhUTphOw8w",
        "outputId": "8865942d-0b9e-425c-be1b-832375847517"
      },
      "execution_count": 20,
      "outputs": [
        {
          "output_type": "stream",
          "name": "stdout",
          "text": [
            "10111\n",
            "23\n"
          ]
        },
        {
          "output_type": "execute_result",
          "data": {
            "text/plain": []
          },
          "metadata": {},
          "execution_count": 20
        }
      ]
    },
    {
      "cell_type": "markdown",
      "source": [
        "4. Converta de decimal para binário ou binário para decimal"
      ],
      "metadata": {
        "id": "BjlBBuCgQ_2g"
      }
    },
    {
      "cell_type": "markdown",
      "source": [
        "**a) 23**\n",
        "\n",
        "quociente: 23/2 = 11\\\n",
        "resto: 1\n",
        "\n",
        "quociente: 11/2 = 5\\\n",
        "resto 1\n",
        "\n",
        "quociente: 5/2 = 2\\\n",
        "resto: 1\n",
        "\n",
        "quociente: 2/2 = 1\\\n",
        "resto: 0\n",
        "\n",
        "**Resultado: 10111**\n"
      ],
      "metadata": {
        "id": "F00sxH9FRFv3"
      }
    },
    {
      "cell_type": "markdown",
      "source": [
        "**b) (1010)2**\n",
        "\n",
        "2¹+2³ = **10**"
      ],
      "metadata": {
        "id": "NTxVBILkSx6r"
      }
    },
    {
      "cell_type": "markdown",
      "source": [
        "**c) 0,1** \\\n",
        "0,1 * 2 = 0,2\\\n",
        "0,2 * 2 = 0,4\\\n",
        "0,4 * 2 = 0,8\\\n",
        "0,8 * 2 = 1,6\\\n",
        "0,6 * 2 = 1,2\n",
        "\n",
        "**Resultado: 0,00011**"
      ],
      "metadata": {
        "id": "Y0-xWCMITuIv"
      }
    },
    {
      "cell_type": "markdown",
      "source": [
        "**d) 37**\\\n",
        "(1) 37/2 = 18\\\n",
        "(0) 18/2 = 9\\\n",
        "(1) 9/2 = 4\\\n",
        "(0) 4/2 = 2\\\n",
        "(0) 2/2 = (1)\n",
        "\n",
        "**Resultado: 100101**"
      ],
      "metadata": {
        "id": "AHedANKyVVUJ"
      }
    },
    {
      "cell_type": "markdown",
      "source": [
        "**e)0,1212** \\\n",
        "0,1212 * 2 = 0,2424\\\n",
        "0,2424 * 2 = 0,4848\\\n",
        "0,4848 * 2 = 0,9696\\\n",
        "0,9696 * 2 = 1,9392\\\n",
        "0,9392 * 2 = 1,8784\\\n",
        "0,8784 * 2 = 1,7568\\\n",
        "0,7568 * 2 = 1,5136\\\n",
        "0,5136 * 2 = 1,0272\\\n",
        "0,0272 * 2 = 0,0544\n",
        "\n",
        "**Resultado: 0,000111110:**\n",
        "\n"
      ],
      "metadata": {
        "id": "BA8A-EVxWCyC"
      }
    },
    {
      "cell_type": "markdown",
      "source": [
        "**f)(101101)2** \\\n",
        "2⁰+2²+2³+2⁵ = **45** "
      ],
      "metadata": {
        "id": "YFjL1lWjhLXK"
      }
    },
    {
      "cell_type": "markdown",
      "source": [
        "**g)(0,1101)2** \\\n",
        "(1 * 2⁻¹) + (1 * 2⁻²) + (1*2⁻⁴)\n",
        "\n",
        "Resultado: 1/2 + 1/4 + 1/16 = **0,8125** "
      ],
      "metadata": {
        "id": "mQa2LOdAiFWX"
      }
    },
    {
      "cell_type": "markdown",
      "source": [
        "5. Considere o sistema 𝐹(10,3, −4,4) normalizado. Represente neste sistema os números:"
      ],
      "metadata": {
        "id": "8sPP6b8RlqKd"
      }
    },
    {
      "cell_type": "markdown",
      "source": [
        "6. Seja um sistema de aritmética de ponto flutuante de quatro dígitos e base decimal. Dado os números: 𝑥 = 0,7237.10⁴; 𝑦 = 0,2145.10⁻³ e 𝑧 = 0,2585.10¹ . Efetue as seguintes\n",
        "operações:"
      ],
      "metadata": {
        "id": "h5Th6dbU5SVn"
      }
    },
    {
      "cell_type": "markdown",
      "source": [
        "**a) x+y+z**\\\n",
        "x = 0,7237.10⁴\\\n",
        "y = 0,2145.10⁻³ = 0,00000002145⁴\\\n",
        "z = 0,2585.10¹ = 0,0002585⁴\\\n",
        "\n",
        "(0,7237 + 0,00000002145 + 0,0002585).10⁴ = \\\n",
        "**0,723958521.10⁴**"
      ],
      "metadata": {
        "id": "AiIkEtAn5e9e"
      }
    },
    {
      "cell_type": "markdown",
      "source": [
        "**b)x-y-z** \\\n",
        "x = 0,723700000000000.10⁴\\\n",
        "y = 0,2145.10⁻³ = 0,00000002145.10⁴\\\n",
        "z = 0,2585.10¹ = 0,00025850000.10⁴\\\n",
        "\n",
        "(0,72370000000 - 0,00000002145 - 0,00025850000).10⁴ = \\\n",
        "**0,723441479**"
      ],
      "metadata": {
        "id": "4nBXLc5GJogk"
      }
    },
    {
      "cell_type": "markdown",
      "source": [
        "**c)x/y** \\\n",
        "(0,7237/0,2145).10⁴⁻³\\\n",
        "3,37389277.10¹ = **0,337389277.10²**"
      ],
      "metadata": {
        "id": "LSu8-ro9LLIK"
      }
    },
    {
      "cell_type": "markdown",
      "source": [
        "**d) (x.y)/z**\\\n",
        "((0,7237*0,2145).10⁴⁺²)/ 0,2585.10¹ \\\n",
        "0,15523365.10⁶/ 0,2585.10¹\n",
        "\n",
        "(0,15523365/0,2585).10⁶⁻¹\\\n",
        "**0,600517021.10⁵**\n"
      ],
      "metadata": {
        "id": "iLPe2bBSM4cO"
      }
    },
    {
      "cell_type": "code",
      "source": [],
      "metadata": {
        "id": "IGJJzPnnOU3W"
      },
      "execution_count": null,
      "outputs": []
    }
  ]
}